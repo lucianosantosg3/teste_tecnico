{
 "cells": [
  {
   "cell_type": "markdown",
   "id": "e42dbab2-d861-4bd0-9299-abce6ea7f5be",
   "metadata": {},
   "source": [
    "## Engenheiro de Dados Pleno: Teste Técnico"
   ]
  },
  {
   "cell_type": "markdown",
   "id": "1f2bf500-6b51-4635-91ba-ab2c021000b0",
   "metadata": {},
   "source": [
    "### Candidato: Luciano Martins dos Santos"
   ]
  },
  {
   "cell_type": "markdown",
   "id": "dd505fb8-f1fd-42e4-a42b-15037549f40f",
   "metadata": {},
   "source": [
    "### O objetivo é extrair apenas dos dados necessários de todo o conjunto de arquivos json, para ganhar de performance nas consultas finais:\n",
    "### 1 - Top 10 Condições\n",
    "### 2 - Top 10 Prescrições de Medicamentos\n",
    "### 3 - Quantidade de gêneros masculinos"
   ]
  },
  {
   "cell_type": "code",
   "execution_count": 1,
   "id": "f2b349f7-9f16-4a6e-b1c3-f6665e780ae3",
   "metadata": {},
   "outputs": [],
   "source": [
    "import pandas as pd\n",
    "import os\n",
    "import glob\n",
    "import psycopg2"
   ]
  },
  {
   "cell_type": "code",
   "execution_count": 2,
   "id": "fa71307e-fb18-4f57-a368-6ae16b2aca02",
   "metadata": {},
   "outputs": [],
   "source": [
    "path = \"C:\\\\Users\\\\lucia\\\\Documents\\\\teste_engenheiro-main\\\\teste_engenheiro-main\\\\data\""
   ]
  },
  {
   "cell_type": "code",
   "execution_count": 3,
   "id": "1dfa9087-0c6d-4bf7-b969-110d2f22cc0e",
   "metadata": {},
   "outputs": [],
   "source": [
    "# a função glob faz com que eu consiga carregar todos os arquivos json do path de uma só vez para uma variável\n",
    "json_files = glob.glob(os.path.join(path, '*.json'))"
   ]
  },
  {
   "cell_type": "code",
   "execution_count": 4,
   "id": "97354cf7-b562-44d7-ad11-ba4375d56744",
   "metadata": {},
   "outputs": [],
   "source": [
    "# esta estrutura, método concat combinado com a List Comprehension, faz com que eu transforme todo conteúdo num único dataframe. \n",
    "pacientes_source =  pd.concat([pd.read_json(file) for file in json_files], ignore_index=True)"
   ]
  },
  {
   "cell_type": "code",
   "execution_count": 106,
   "id": "3507c5cd-7425-492b-9854-b71901a9c582",
   "metadata": {},
   "outputs": [],
   "source": [
    "# Abre conexão com o PosrgresSQL. Pode ser reproduzido facilmente em qualuer instalação do PgAdmin On-Premisse\n",
    "conn = psycopg2.connect(host='localhost', database='postgres', user='postgres', password='admin')\n",
    "cur = conn.cursor()"
   ]
  },
  {
   "cell_type": "code",
   "execution_count": 88,
   "id": "749449ae-0db8-4837-b108-e3969f12627b",
   "metadata": {},
   "outputs": [],
   "source": [
    "# Carrega a tabela do patients no PostgresSQL\n",
    "for i in range(len(pacientes_source)):\n",
    "    if pacientes_source.iloc[i].entry.get('resource').get('resourceType') == 'Patient':\n",
    "        cur.execute(\"\"\"\n",
    "            INSERT INTO patients (resource_type, gender)\n",
    "            VALUES (%s, %s)\n",
    "        \"\"\", (\n",
    "            pacientes_source.iloc[i].entry.get('resource').get('resourceType'),\n",
    "            pacientes_source.iloc[i].entry.get('resource').get('gender')\n",
    "        ))\n",
    "conn.commit()"
   ]
  },
  {
   "cell_type": "code",
   "execution_count": 99,
   "id": "5c847cfb-2e83-495c-941e-b0e9e0e953cc",
   "metadata": {},
   "outputs": [],
   "source": [
    "# Carrega a tabela do conditions no PostgresSQL\n",
    "for i in range(len(pacientes_source)):\n",
    "    if pacientes_source.iloc[i].entry.get('resource').get('resourceType') == 'Condition':\n",
    "        cur.execute(\"\"\"\n",
    "            INSERT INTO conditions (resource_type, condition)\n",
    "            VALUES (%s, %s)\n",
    "        \"\"\", (\n",
    "            pacientes_source.iloc[i].entry.get('resource').get('resourceType'),\n",
    "            pacientes_source.iloc[i].entry.get('resource').get('code').get('text')\n",
    "        ))\n",
    "conn.commit()"
   ]
  },
  {
   "cell_type": "code",
   "execution_count": 107,
   "id": "faed61cf-7027-47ee-974b-f1ce8df7687d",
   "metadata": {},
   "outputs": [],
   "source": [
    "# Carrega a tabela do medications no PostgresSQL\n",
    "for i in range(len(pacientes_source)):\n",
    "    if pacientes_source.iloc[i].entry.get('resource').get('resourceType') == 'MedicationRequest':\n",
    "        cur.execute(\"\"\"\n",
    "            INSERT INTO medications (resource_type, medication)\n",
    "            VALUES (%s, %s)\n",
    "        \"\"\", (\n",
    "            pacientes_source.iloc[i].entry.get('resource').get('resourceType'),\n",
    "            pacientes_source.iloc[i].entry.get('resource').get('medicationCodeableConcept').get('text')\n",
    "        ))\n",
    "conn.commit()"
   ]
  },
  {
   "cell_type": "code",
   "execution_count": 105,
   "id": "a92523f7-199f-4d9c-a81f-6adee49b56f4",
   "metadata": {},
   "outputs": [],
   "source": [
    "# Fecha conexão com o PostgreSQL\n",
    "conn.close()"
   ]
  },
  {
   "cell_type": "code",
   "execution_count": null,
   "id": "20a781f4-9e5f-41f0-a690-f1b229e9b94a",
   "metadata": {},
   "outputs": [],
   "source": []
  }
 ],
 "metadata": {
  "kernelspec": {
   "display_name": "Python 3 (ipykernel)",
   "language": "python",
   "name": "python3"
  },
  "language_info": {
   "codemirror_mode": {
    "name": "ipython",
    "version": 3
   },
   "file_extension": ".py",
   "mimetype": "text/x-python",
   "name": "python",
   "nbconvert_exporter": "python",
   "pygments_lexer": "ipython3",
   "version": "3.12.7"
  }
 },
 "nbformat": 4,
 "nbformat_minor": 5
}
